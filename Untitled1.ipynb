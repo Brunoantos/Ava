{
  "nbformat": 4,
  "nbformat_minor": 0,
  "metadata": {
    "colab": {
      "provenance": [],
      "authorship_tag": "ABX9TyPU+2gpBbB/aeWYnZIg0W/R",
      "include_colab_link": true
    },
    "kernelspec": {
      "name": "python3",
      "display_name": "Python 3"
    },
    "language_info": {
      "name": "python"
    }
  },
  "cells": [
    {
      "cell_type": "markdown",
      "metadata": {
        "id": "view-in-github",
        "colab_type": "text"
      },
      "source": [
        "<a href=\"https://colab.research.google.com/github/Brunoantos/Ava/blob/master/Untitled1.ipynb\" target=\"_parent\"><img src=\"https://colab.research.google.com/assets/colab-badge.svg\" alt=\"Open In Colab\"/></a>"
      ]
    },
    {
      "cell_type": "code",
      "execution_count": 3,
      "metadata": {
        "colab": {
          "base_uri": "https://localhost:8080/"
        },
        "id": "g_9fJNPUWLMD",
        "outputId": "a6441f62-ba4d-4e62-cd86-d0ca4aa71f20"
      },
      "outputs": [
        {
          "output_type": "stream",
          "name": "stdout",
          "text": [
            "Digite o primeiro número: 1\n",
            "Digite o segundo número: 2\n",
            "A soma é: 3.0\n",
            "A subtração é: -1.0\n",
            "A multiplicação é: 2.0\n",
            "A divisão é: 0.5\n",
            "A divisão inteira é: 0.0\n"
          ]
        }
      ],
      "source": [
        "def main():\n",
        "    # Solicitar ao usuário para inserir dois números\n",
        "    num1 = float(input(\"Digite o primeiro número: \"))\n",
        "    num2 = float(input(\"Digite o segundo número: \"))\n",
        "\n",
        "    # Calcular a soma\n",
        "    soma = num1 + num2\n",
        "    print(\"A soma é:\", soma)\n",
        "\n",
        "    # Calcular a subtração\n",
        "    subtracao = num1 - num2\n",
        "    print(\"A subtração é:\", subtracao)\n",
        "\n",
        "    # Calcular a multiplicação\n",
        "    multiplicacao = num1 * num2\n",
        "    print(\"A multiplicação é:\", multiplicacao)\n",
        "\n",
        "    # Calcular a divisão\n",
        "    if num2 != 0:\n",
        "        divisao = num1 / num2\n",
        "        print(\"A divisão é:\", divisao)\n",
        "    else:\n",
        "        print(\"Não é possível dividir por zero.\")\n",
        "\n",
        "    # Calcular a divisão inteira\n",
        "    if num2 != 0:\n",
        "        divisao_inteira = num1 // num2\n",
        "        print(\"A divisão inteira é:\", divisao_inteira)\n",
        "    else:\n",
        "        print(\"Não é possível calcular a divisão inteira por zero.\")\n",
        "\n",
        "if __name__ == \"__main__\":\n",
        "    main()\n"
      ]
    },
    {
      "cell_type": "code",
      "source": [
        "def minutos_para_horas_e_minutos(total_minutos):\n",
        "    horas = total_minutos // 60\n",
        "    minutos = total_minutos % 60\n",
        "    return horas, minutos\n",
        "\n",
        "def horas_e_minutos_para_minutos(horas, minutos):\n",
        "    total_minutos = horas * 60 + minutos\n",
        "    return total_minutos\n",
        "\n",
        "def main():\n",
        "    opcao = input(\"Escolha a operação:\\n 1 - Converter minutos para horas e minutos\\n 2 - Converter horas e minutos para minutos totais\\n\")\n",
        "\n",
        "    if opcao == '1':\n",
        "        minutos = int(input(\"Digite o número total de minutos: \"))\n",
        "        horas, minutos_restantes = minutos_para_horas_e_minutos(minutos)\n",
        "        print(f\"{minutos} minutos correspondem a {horas} horas e {minutos_restantes} minutos.\")\n",
        "\n",
        "    elif opcao == '2':\n",
        "        horas = int(input(\"Digite o número de horas: \"))\n",
        "        minutos = int(input(\"Digite o número de minutos: \"))\n",
        "        total_minutos = horas_e_minutos_para_minutos(horas, minutos)\n",
        "        print(f\"{horas} horas e {minutos} minutos correspondem a um total de {total_minutos} minutos.\")\n",
        "\n",
        "    else:\n",
        "        print(\"Opção inválida. Por favor, escolha 1 ou 2.\")\n",
        "\n",
        "if __name__ == \"__main__\":\n",
        "    main()\n",
        "1"
      ],
      "metadata": {
        "colab": {
          "base_uri": "https://localhost:8080/"
        },
        "id": "49IumTjHawiH",
        "outputId": "de8d6963-04e9-4bc1-be7a-717650e66d8c"
      },
      "execution_count": 5,
      "outputs": [
        {
          "output_type": "stream",
          "name": "stdout",
          "text": [
            "Escolha a operação:\n",
            " 1 - Converter minutos para horas e minutos\n",
            " 2 - Converter horas e minutos para minutos totais\n",
            "1\n",
            "Digite o número total de minutos: 1200\n",
            "1200 minutos correspondem a 20 horas e 0 minutos.\n"
          ]
        },
        {
          "output_type": "execute_result",
          "data": {
            "text/plain": [
              "1"
            ]
          },
          "metadata": {},
          "execution_count": 5
        }
      ]
    },
    {
      "cell_type": "code",
      "source": [
        "def combine_nomes(nome1, nome2):\n",
        "    # Pegar metade do primeiro nome\n",
        "    metade_nome1 = nome1[:len(nome1)//2]\n",
        "\n",
        "    # Pegar metade do segundo nome\n",
        "    metade_nome2 = nome2[len(nome2)//2:]\n",
        "\n",
        "    # Combinação criativa dos nomes\n",
        "    novo_nome = metade_nome1 + metade_nome2\n",
        "    return novo_nome\n",
        "\n",
        "def main():\n",
        "    nome1 = input(\"Digite o primeiro nome de usuário: \")\n",
        "    nome2 = input(\"Digite o segundo nome de usuário: \")\n",
        "\n",
        "    novo_nome = combine_nomes(nome1, nome2)\n",
        "    print(\"O novo nome combinado é:\", novo_nome)\n",
        "\n",
        "if __name__ == \"__main__\":\n",
        "    main()\n"
      ],
      "metadata": {
        "colab": {
          "base_uri": "https://localhost:8080/"
        },
        "id": "VGBTVAjWbM4Z",
        "outputId": "44a04380-c275-4ed3-ac6e-e293506e54ad"
      },
      "execution_count": 6,
      "outputs": [
        {
          "output_type": "stream",
          "name": "stdout",
          "text": [
            "Digite o primeiro nome de usuário: bruno\n",
            "Digite o segundo nome de usuário: thales\n",
            "O novo nome combinado é: brles\n"
          ]
        }
      ]
    },
    {
      "cell_type": "code",
      "source": [
        "def adicao(num1, num2):\n",
        "    return num1 + num2\n",
        "\n",
        "def subtracao(num1, num2):\n",
        "    return num1 - num2\n",
        "\n",
        "def multiplicacao(num1, num2):\n",
        "    return num1 * num2\n",
        "\n",
        "def divisao(num1, num2):\n",
        "    if num2 == 0:\n",
        "        return \"Erro: Divisão por zero!\"\n",
        "    else:\n",
        "        return num1 / num2\n",
        "\n",
        "def main():\n",
        "    print(\"Escolha a operação:\")\n",
        "    print(\"1. Adição\")\n",
        "    print(\"2. Subtração\")\n",
        "    print(\"3. Multiplicação\")\n",
        "    print(\"4. Divisão\")\n",
        "\n",
        "    escolha = input(\"Digite o número da operação desejada: \")\n",
        "\n",
        "    num1 = float(input(\"Digite o primeiro número: \"))\n",
        "    num2 = float(input(\"Digite o segundo número: \"))\n",
        "\n",
        "    if escolha == '1':\n",
        "        resultado = adicao(num1, num2)\n",
        "        print(\"O resultado da adição é:\", resultado)\n",
        "    elif escolha == '2':\n",
        "        resultado = subtracao(num1, num2)\n",
        "        print(\"O resultado da subtração é:\", resultado)\n",
        "    elif escolha == '3':\n",
        "        resultado = multiplicacao(num1, num2)\n",
        "        print(\"O resultado da multiplicação é:\", resultado)\n",
        "    elif escolha == '4':\n",
        "        resultado = divisao(num1, num2)\n",
        "        print(\"O resultado da divisão é:\", resultado)\n",
        "    else:\n",
        "        print(\"Opção inválida. Por favor, escolha uma das opções listadas.\")\n",
        "\n",
        "if __name__ == \"__main__\":\n",
        "    main()\n"
      ],
      "metadata": {
        "colab": {
          "base_uri": "https://localhost:8080/"
        },
        "id": "9UcD5lLmbcoH",
        "outputId": "2a65933a-1722-49f1-ee3a-bfe080d334ca"
      },
      "execution_count": 7,
      "outputs": [
        {
          "output_type": "stream",
          "name": "stdout",
          "text": [
            "Escolha a operação:\n",
            "1. Adição\n",
            "2. Subtração\n",
            "3. Multiplicação\n",
            "4. Divisão\n",
            "Digite o número da operação desejada: 4\n",
            "Digite o primeiro número: 8\n",
            "Digite o segundo número: 4\n",
            "O resultado da divisão é: 2.0\n"
          ]
        }
      ]
    },
    {
      "cell_type": "code",
      "source": [
        "def main():\n",
        "    # Solicitar ao usuário seu nome e sobrenome\n",
        "    nome = input(\"Digite seu nome: \")\n",
        "    sobrenome = input(\"Digite seu sobrenome: \")\n",
        "\n",
        "    # Combinar nome e sobrenome para formar a saudação personalizada\n",
        "    saudacao = f\"Olá, {nome} {sobrenome}! Seja bem-vindo(a).\"\n",
        "\n",
        "    # Exibir a saudação personalizada\n",
        "    print(saudacao)\n",
        "\n",
        "if __name__ == \"__main__\":\n",
        "    main()\n"
      ],
      "metadata": {
        "colab": {
          "base_uri": "https://localhost:8080/"
        },
        "id": "xLwThdgib9_F",
        "outputId": "5069ffa6-e759-435f-98e6-0894c16677fb"
      },
      "execution_count": 8,
      "outputs": [
        {
          "output_type": "stream",
          "name": "stdout",
          "text": [
            "Digite seu nome: bruno\n",
            "Digite seu sobrenome: santos\n",
            "Olá, bruno santos! Seja bem-vindo(a).\n"
          ]
        }
      ]
    },
    {
      "cell_type": "code",
      "source": [
        "import random\n",
        "\n",
        "def main():\n",
        "    # Gerar um número secreto aleatório entre 1 e 100\n",
        "    numero_secreto = random.randint(1, 100)\n",
        "\n",
        "    print(\"Bem-vindo ao jogo de adivinhação!\")\n",
        "    print(\"Tente adivinhar o número secreto entre 1 e 100.\")\n",
        "\n",
        "    tentativas = 0\n",
        "    while True:\n",
        "        # Solicitar ao usuário para fazer um palpite\n",
        "        palpite = int(input(\"Digite seu palpite: \"))\n",
        "        tentativas += 1\n",
        "\n",
        "        # Verificar se o palpite está correto, muito alto ou muito baixo\n",
        "        if palpite == numero_secreto:\n",
        "            print(f\"Parabéns! Você acertou o número secreto {numero_secreto} em {tentativas} tentativas!\")\n",
        "            break\n",
        "        elif palpite < numero_secreto:\n",
        "            print(\"Seu palpite está muito baixo. Tente novamente.\")\n",
        "        else:\n",
        "            print(\"Seu palpite está muito alto. Tente novamente.\")\n",
        "\n",
        "if __name__ == \"__main__\":\n",
        "    main()\n"
      ],
      "metadata": {
        "id": "EyXrUDT-eBEn"
      },
      "execution_count": null,
      "outputs": []
    },
    {
      "cell_type": "code",
      "source": [
        "def calcular_imc(peso, altura):\n",
        "    \"\"\"\n",
        "    Função para calcular o Índice de Massa Corporal (IMC).\n",
        "    \"\"\"\n",
        "    return peso / (altura ** 2)\n",
        "\n",
        "def classificar_imc(imc):\n",
        "    \"\"\"\n",
        "    Função para classificar o IMC e fornecer feedback.\n",
        "    \"\"\"\n",
        "    if imc < 18.5:\n",
        "        return \"Abaixo do peso\"\n",
        "    elif imc < 24.9:\n",
        "        return \"Peso normal\"\n",
        "    elif imc < 29.9:\n",
        "        return \"Sobrepeso\"\n",
        "    elif imc < 34.9:\n",
        "        return \"Obesidade grau I\"\n",
        "    elif imc < 39.9:\n",
        "        return \"Obesidade grau II\"\n",
        "    else:\n",
        "        return \"Obesidade grau III\"\n",
        "\n",
        "def main():\n",
        "    # Solicitar ao usuário para inserir seu peso e altura\n",
        "    peso = float(input(\"Digite seu peso em kg: \"))\n",
        "    altura = float(input(\"Digite sua altura em metros: \"))\n",
        "\n",
        "    # Calcular o IMC\n",
        "    imc = calcular_imc(peso, altura)\n",
        "\n",
        "    # Classificar o IMC e fornecer feedback\n",
        "    classificacao = classificar_imc(imc)\n",
        "\n",
        "    # Exibir o resultado\n",
        "    print(f\"Seu IMC é: {imc:.2f}\")\n",
        "    print(\"Classificação:\", classificacao)\n",
        "\n",
        "if __name__ == \"__main__\":\n",
        "    main()\n"
      ],
      "metadata": {
        "colab": {
          "base_uri": "https://localhost:8080/"
        },
        "id": "k1S6KWpidfmh",
        "outputId": "b7841604-567d-4cff-a867-30c35ed72f77"
      },
      "execution_count": 15,
      "outputs": [
        {
          "output_type": "stream",
          "name": "stdout",
          "text": [
            "Digite seu peso em kg: 56\n",
            "Digite sua altura em metros: 177\n",
            "Seu IMC é: 0.00\n",
            "Classificação: Abaixo do peso\n"
          ]
        }
      ]
    },
    {
      "cell_type": "code",
      "source": [
        "def verificar_maioridade(idade):\n",
        "    \"\"\"\n",
        "    Função para verificar se o usuário é maior de idade.\n",
        "    \"\"\"\n",
        "    if idade >= 18:\n",
        "        return True\n",
        "    else:\n",
        "        return False\n",
        "\n",
        "def main():\n",
        "    # Solicitar ao usuário para inserir sua idade\n",
        "    idade = int(input(\"Digite sua idade: \"))\n",
        "\n",
        "    # Verificar se o usuário é maior de idade\n",
        "    if verificar_maioridade(idade):\n",
        "        print(\"Você é maior de idade.\")\n",
        "    else:\n",
        "        print(\"Você é menor de idade.\")\n",
        "\n",
        "if __name__ == \"__main__\":\n",
        "    main()\n"
      ],
      "metadata": {
        "colab": {
          "base_uri": "https://localhost:8080/"
        },
        "id": "agTVBe7WeJ5h",
        "outputId": "6664fc59-064f-4968-e13e-a4fd4e80a89c"
      },
      "execution_count": 16,
      "outputs": [
        {
          "output_type": "stream",
          "name": "stdout",
          "text": [
            "Digite sua idade: 28\n",
            "Você é maior de idade.\n"
          ]
        }
      ]
    },
    {
      "cell_type": "code",
      "source": [
        "def aplicar_desconto(valor_compra):\n",
        "    \"\"\"\n",
        "    Função para aplicar desconto com base no valor da compra.\n",
        "    \"\"\"\n",
        "    if valor_compra > 200:\n",
        "        desconto = 0.15\n",
        "    elif valor_compra > 100:\n",
        "        desconto = 0.10\n",
        "    else:\n",
        "        desconto = 0\n",
        "\n",
        "    valor_desconto = valor_compra * desconto\n",
        "    valor_final = valor_compra - valor_desconto\n",
        "\n",
        "    return valor_final\n",
        "\n",
        "def main():\n",
        "    # Solicitar ao usuário para inserir o valor da compra\n",
        "    valor_compra = float(input(\"Digite o valor da compra: R$\"))\n",
        "\n",
        "    # Aplicar desconto com base no valor da compra e exibir o valor final\n",
        "    valor_final = aplicar_desconto(valor_compra)\n",
        "    print(f\"Valor final com desconto: R${valor_final:.2f}\")\n",
        "\n",
        "if __name__ == \"__main__\":\n",
        "    main()\n"
      ],
      "metadata": {
        "colab": {
          "base_uri": "https://localhost:8080/"
        },
        "id": "MufGJGfbeaFY",
        "outputId": "bf8b87f2-1d2e-40c9-cb21-c6fd59c0d0dd"
      },
      "execution_count": 19,
      "outputs": [
        {
          "output_type": "stream",
          "name": "stdout",
          "text": [
            "Digite o valor da compra: R$500\n",
            "Valor final com desconto: R$425.00\n"
          ]
        }
      ]
    },
    {
      "cell_type": "code",
      "source": [
        "import random\n",
        "\n",
        "def criar_historia(personagens, acoes, locais):\n",
        "    \"\"\"\n",
        "    Função para criar uma história combinando elementos aleatórios de listas diferentes.\n",
        "    \"\"\"\n",
        "    personagem = random.choice(personagens)\n",
        "    acao = random.choice(acoes)\n",
        "    local = random.choice(locais)\n",
        "\n",
        "    historia = f\"Em um dia ensolarado, {personagem} decidiu {acao} em {local}.\"\n",
        "    return historia\n",
        "\n",
        "def main():\n",
        "    # Listas de personagens, ações e locais\n",
        "    personagens = [\"João\", \"Maria\", \"Carlos\", \"Ana\", \"Pedro\"]\n",
        "    acoes = [\"explorar\", \"aprender\", \"descobrir\", \"construir\", \"investigar\"]\n",
        "    locais = [\"uma floresta\", \"uma cidade abandonada\", \"uma montanha\", \"uma ilha deserta\", \"um planeta distante\"]\n",
        "\n",
        "    # Criar e exibir a história curiosa\n",
        "    historia = criar_historia(personagens, acoes, locais)\n",
        "    print(historia)\n",
        "\n",
        "if __name__ == \"__main__\":\n",
        "    main()\n"
      ],
      "metadata": {
        "colab": {
          "base_uri": "https://localhost:8080/"
        },
        "id": "8qRPgddufWCH",
        "outputId": "80371700-2d2c-4368-a05c-6baecc6c49a1"
      },
      "execution_count": 20,
      "outputs": [
        {
          "output_type": "stream",
          "name": "stdout",
          "text": [
            "Em um dia ensolarado, João decidiu descobrir em uma floresta.\n"
          ]
        }
      ]
    },
    {
      "cell_type": "code",
      "source": [
        "import random\n",
        "\n",
        "def lancar_dados(num_dados):\n",
        "    \"\"\"\n",
        "    Função para simular o lançamento de dados.\n",
        "    \"\"\"\n",
        "    resultados = [random.randint(1, 6) for _ in range(num_dados)]\n",
        "    return resultados\n",
        "\n",
        "def main():\n",
        "    # Solicitar ao usuário o número de dados a serem jogados\n",
        "    num_dados = int(input(\"Quantos dados você gostaria de jogar? \"))\n",
        "\n",
        "    # Simular o lançamento dos dados\n",
        "    resultados = lancar_dados(num_dados)\n",
        "\n",
        "    # Exibir os resultados\n",
        "    print(\"Resultados do lançamento dos dados:\")\n",
        "    for i, resultado in enumerate(resultados, start=1):\n",
        "        print(f\"Dado {i}: {resultado}\")\n",
        "\n",
        "if __name__ == \"__main__\":\n",
        "    main()\n"
      ],
      "metadata": {
        "colab": {
          "base_uri": "https://localhost:8080/"
        },
        "id": "3cDlcqRAfifk",
        "outputId": "626ffa11-3ca2-4cf8-f9b2-ec387ac8ec24"
      },
      "execution_count": 21,
      "outputs": [
        {
          "output_type": "stream",
          "name": "stdout",
          "text": [
            "Quantos dados você gostaria de jogar? 5\n",
            "Resultados do lançamento dos dados:\n",
            "Dado 1: 1\n",
            "Dado 2: 6\n",
            "Dado 3: 4\n",
            "Dado 4: 3\n",
            "Dado 5: 3\n"
          ]
        }
      ]
    },
    {
      "cell_type": "code",
      "source": [
        "def classificar_palavras(palavras):\n",
        "    \"\"\"\n",
        "    Função para classificar palavras como curtas ou longas.\n",
        "    \"\"\"\n",
        "    curtas = []\n",
        "    longas = []\n",
        "\n",
        "    for palavra in palavras:\n",
        "        if len(palavra) < 5:\n",
        "            curtas.append(palavra)\n",
        "        else:\n",
        "            longas.append(palavra)\n",
        "\n",
        "    return curtas, longas\n",
        "\n",
        "def main():\n",
        "    # Solicitar ao usuário para inserir palavras separadas por espaços\n",
        "    entrada = input(\"Digite algumas palavras separadas por espaços: \")\n",
        "\n",
        "    # Dividir a entrada do usuário em uma lista de palavras\n",
        "    palavras = entrada.split()\n",
        "\n",
        "    # Classificar as palavras como curtas ou longas\n",
        "    curtas, longas = classificar_palavras(palavras)\n",
        "\n",
        "    # Exibir os resultados\n",
        "    print(\"Palavras curtas:\")\n",
        "    for palavra in curtas:\n",
        "        print(palavra)\n",
        "\n",
        "    print(\"\\nPalavras longas:\")\n",
        "    for palavra in longas:\n",
        "        print(palavra)\n",
        "\n",
        "if __name__ == \"__main__\":\n",
        "    main()\n"
      ],
      "metadata": {
        "colab": {
          "base_uri": "https://localhost:8080/"
        },
        "id": "0lkBmFJ6ftbg",
        "outputId": "71520eb9-54f6-4d83-b209-fe2d3c155a96"
      },
      "execution_count": 22,
      "outputs": [
        {
          "output_type": "stream",
          "name": "stdout",
          "text": [
            "Digite algumas palavras separadas por espaços: aonde  vou\n",
            "Palavras curtas:\n",
            "vou\n",
            "\n",
            "Palavras longas:\n",
            "aonde\n"
          ]
        }
      ]
    },
    {
      "cell_type": "code",
      "source": [
        "def verificar_palindromo(texto):\n",
        "    \"\"\"\n",
        "    Função para verificar se um texto é um palíndromo.\n",
        "    \"\"\"\n",
        "    # Remover espaços em branco e tornar todas as letras minúsculas\n",
        "    texto = texto.replace(\" \", \"\").lower()\n",
        "\n",
        "    # Verificar se o texto é igual ao seu reverso\n",
        "    return texto == texto[::-1]\n",
        "\n",
        "def main():\n",
        "    # Solicitar ao usuário para inserir uma palavra ou frase\n",
        "    texto = input(\"Digite uma palavra ou frase para verificar se é um palíndromo: \")\n",
        "\n",
        "    # Verificar se o texto inserido é um palíndromo\n",
        "    if verificar_palindromo(texto):\n",
        "        print(\"Sim, é um palíndromo.\")\n",
        "    else:\n",
        "        print(\"Não, não é um palíndromo.\")\n",
        "\n",
        "if __name__ == \"__main__\":\n",
        "    main()\n"
      ],
      "metadata": {
        "colab": {
          "base_uri": "https://localhost:8080/"
        },
        "id": "ePRIQuKIf8o3",
        "outputId": "7d075ea1-b366-4fcb-ccd8-a54ee2bb18dd"
      },
      "execution_count": 23,
      "outputs": [
        {
          "output_type": "stream",
          "name": "stdout",
          "text": [
            "Digite uma palavra ou frase para verificar se é um palíndromo: caindo\n",
            "Não, não é um palíndromo.\n"
          ]
        }
      ]
    },
    {
      "cell_type": "code",
      "source": [
        "def votar(opcoes):\n",
        "    \"\"\"\n",
        "    Função para permitir que o usuário vote em uma das opções.\n",
        "    \"\"\"\n",
        "    while True:\n",
        "        print(\"Opções disponíveis para votação:\")\n",
        "        for i, opcao in enumerate(opcoes, start=1):\n",
        "            print(f\"{i}. {opcao}\")\n",
        "\n",
        "        try:\n",
        "            voto = int(input(\"Digite o número da opção em que deseja votar (ou 0 para encerrar): \"))\n",
        "            if voto == 0:\n",
        "                break\n",
        "            elif 1 <= voto <= len(opcoes):\n",
        "                return voto\n",
        "            else:\n",
        "                print(\"Opção inválida. Por favor, escolha uma das opções listadas.\")\n",
        "        except ValueError:\n",
        "            print(\"Por favor, digite um número válido.\")\n",
        "\n",
        "def main():\n",
        "    opcoes = [\"Opção A\", \"Opção B\", \"Opção C\"]\n",
        "    votos = [0] * len(opcoes)\n",
        "\n",
        "    print(\"Bem-vindo à votação!\")\n",
        "\n",
        "    while True:\n",
        "        voto = votar(opcoes)\n",
        "        if voto == 0:\n",
        "            break\n",
        "        else:\n",
        "            votos[voto - 1] += 1\n",
        "\n",
        "    print(\"\\nResultado da votação:\")\n",
        "    for i, opcao in enumerate(opcoes):\n",
        "        print(f\"{opcao}: {votos[i]} voto(s)\")\n",
        "\n",
        "if __name__ == \"__main__\":\n",
        "    main()\n"
      ],
      "metadata": {
        "id": "PZ3YbzMKgRhP"
      },
      "execution_count": null,
      "outputs": []
    },
    {
      "cell_type": "code",
      "source": [
        "def historia():\n",
        "    \"\"\"\n",
        "    Função que representa a história e conduz as escolhas do usuário.\n",
        "    \"\"\"\n",
        "    print(\"Bem-vindo à aventura!\")\n",
        "    print(\"Você está em uma floresta misteriosa. Você ouve um barulho estranho vindo de uma trilha à sua esquerda.\")\n",
        "\n",
        "    escolha_trilha = input(\"Você deseja seguir a trilha? (sim/não): \").lower()\n",
        "\n",
        "    if escolha_trilha == \"sim\":\n",
        "        print(\"Você segue a trilha e encontra um tesouro escondido!\")\n",
        "    else:\n",
        "        print(\"Você decide não seguir a trilha e continua sua jornada.\")\n",
        "\n",
        "    print(\"\\nVocê se depara com um rio. Você pode tentar atravessá-lo a nado ou procurar por uma ponte.\")\n",
        "\n",
        "    escolha_rio = input(\"O que você quer fazer? (atravessar/ponte): \").lower()\n",
        "\n",
        "    if escolha_rio == \"atravessar\":\n",
        "        print(\"Você tenta atravessar o rio a nado, mas é arrastado pela correnteza. Você se machuca, mas consegue chegar ao outro lado.\")\n",
        "    elif escolha_rio == \"ponte\":\n",
        "        print(\"Você encontra uma ponte segura e atravessa o rio sem problemas.\")\n",
        "\n",
        "    print(\"\\nVocê avista uma caverna escura à sua frente. Você pode entrar na caverna ou continuar sua jornada pela floresta.\")\n",
        "\n",
        "    escolha_caverna = input(\"O que você decide fazer? (caverna/continuar): \").lower()\n",
        "\n",
        "    if escolha_caverna == \"caverna\":\n",
        "        print(\"Você entra na caverna e encontra uma criatura misteriosa que lhe oferece uma recompensa.\")\n",
        "    else:\n",
        "        print(\"Você decide não arriscar e continua sua jornada pela floresta.\")\n",
        "\n",
        "def main():\n",
        "    # Iniciar a história\n",
        "    historia()\n",
        "\n",
        "if __name__ == \"__main__\":\n",
        "    main()\n"
      ],
      "metadata": {
        "colab": {
          "base_uri": "https://localhost:8080/"
        },
        "id": "GLQIkm6ugs85",
        "outputId": "d31dd826-fe40-4a51-82b2-ff66c3764d24"
      },
      "execution_count": 28,
      "outputs": [
        {
          "output_type": "stream",
          "name": "stdout",
          "text": [
            "Bem-vindo à aventura!\n",
            "Você está em uma floresta misteriosa. Você ouve um barulho estranho vindo de uma trilha à sua esquerda.\n",
            "Você deseja seguir a trilha? (sim/não): sim\n",
            "Você segue a trilha e encontra um tesouro escondido!\n",
            "\n",
            "Você se depara com um rio. Você pode tentar atravessá-lo a nado ou procurar por uma ponte.\n",
            "O que você quer fazer? (atravessar/ponte): atravessar\n",
            "Você tenta atravessar o rio a nado, mas é arrastado pela correnteza. Você se machuca, mas consegue chegar ao outro lado.\n",
            "\n",
            "Você avista uma caverna escura à sua frente. Você pode entrar na caverna ou continuar sua jornada pela floresta.\n",
            "O que você decide fazer? (caverna/continuar): caverna\n",
            "Você entra na caverna e encontra uma criatura misteriosa que lhe oferece uma recompensa.\n"
          ]
        }
      ]
    }
  ]
}